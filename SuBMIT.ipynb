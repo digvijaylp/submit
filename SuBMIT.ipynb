{
 "cells": [
  {
   "cell_type": "markdown",
   "metadata": {},
   "source": [
    "# SuBMIT: Structure Based Model(s) Input Toolkit \n",
    "## Package to generate Coarse-Grained Structure (.gro/.pdb) and Topology (.top/.xml) for using Augmented Structure Based Models MD Simulations on GROMACS and OpenSMOG (OpenMM based) \n",
    " \n",
    " ![alt text](https://github.com/sglabncbs/submit/blob/main/examples/SuBMIT.png)"
   ]
  },
  {
   "cell_type": "code",
   "execution_count": 1,
   "metadata": {},
   "outputs": [],
   "source": [
    "import ipywidgets as widgets\n",
    "from IPython.display import display\n"
   ]
  },
  {
   "cell_type": "markdown",
   "metadata": {},
   "source": [
    "### Select preset models:"
   ]
  },
  {
   "cell_type": "markdown",
   "metadata": {},
   "source": []
  },
  {
   "cell_type": "code",
   "execution_count": 2,
   "metadata": {},
   "outputs": [
    {
     "data": {
      "application/vnd.jupyter.widget-view+json": {
       "model_id": "4717d04e971344af9a088ce2d1e3b6ae",
       "version_major": 2,
       "version_minor": 0
      },
      "text/plain": [
       "HBox(children=(Dropdown(description='Models', options=('custom', 'clementi2000', 'afsar2008', 'azia2009', 'pal…"
      ]
     },
     "metadata": {},
     "output_type": "display_data"
    }
   ],
   "source": [
    "models={ \"custom\":\"SuBMIT custom SBM Options\",\\\n",
    "            \"clementi2000\":\"Clementi et. al. 2000 CA-only model. 10.1006/jmbi.2000.3693\",\\\n",
    "\t        \"afsar2008\":\"Zarrine-Afsar et. al. 2008 CA-only + hydrophobic model with . 10.1073/pnas.0801874105\",\\\n",
    "\t        \"azia2009\":\"Azia 2009 CB-CA + Debye-Huckel model. 10.1016/j.jmb.2009.08.010\",\\\n",
    "\t        \"pal2019\":\"Pal & Levy 2019 Protein CB-CA & RNA/DNA P-S-B model. 10.1371/journal.pcbi.1006768\",\\\n",
    "\t        \"reddy2017\":\"Reddy & Thirumalai 2017 SOP-SC CA-CB. 10.1021/acs.jpcb.6b13100\",\\\n",
    "\t        \"denesyuk2013\":\"Denesyuk & Thirumalai 2013 Three Interaction Site TIS P-S-B model. 10.1021/jp401087x\",\\\n",
    "\t        \"chakraborty2018\":\"Chakraborty & Thirumalai 2018 Three Interaction Site TIS P-S-B model. 10.1021/acs.jctc.8b00091\",\\\n",
    "\t        \"baul2019\":\"Baul et. al. 2019 SOP-SC-IDP CA-CB. 10.1021/acs.jpcb.9b02575\",\\\n",
    "\t        \"baidya2022\":\"Baidya & Reddy 2022 SOP-SC-IDP CA-CB. 10.1021/acs.jpclett.2c01972\",\\\n",
    "        \t\"baratam2024\":\"Baratam & Srivastava 2024 SOP-MULTI CA-CB. 10.1101/2024.04.29.591764\",\\\n",
    "        \t\"sop_idr\":\"Reddy-Thiruamalai(SOPSC) + Baidya-Reddy(SOPIDP) hybrid CA-CB\",\\\n",
    "        \t\"girirao2016\":\"Generate multi-basin .top/.xml file\",\\\n",
    "        \t\"banerjee2023\":\"Banerjee & Gosavi 2023 Self-Peptide model. 10.1021/acs.jpcb.2c05917\",\\\n",
    "        \t\"virusassembly\":\"Preset for structure based virus assembly (dlprakash 2025)\",\\\n",
    "}\n",
    "selectmodel = widgets.Dropdown(description='Models',options=list(models.keys()),value=\"custom\",disabled=False)\n",
    "button = widgets.Button(description='Model information',button_style='info',tooltip='model info',icon='info')\n",
    "def description(btn):print (models[selectmodel.value],flush=True)\n",
    "button.on_click(description)\n",
    "display (widgets.HBox([selectmodel,button]))\n"
   ]
  },
  {
   "cell_type": "markdown",
   "metadata": {},
   "source": [
    "### Coarse-graining parameters:-"
   ]
  },
  {
   "cell_type": "code",
   "execution_count": 5,
   "metadata": {},
   "outputs": [
    {
     "data": {
      "application/vnd.jupyter.widget-view+json": {
       "model_id": "a09bc28fa8474d438c43736fdabb2b3e",
       "version_major": 2,
       "version_minor": 0
      },
      "text/plain": [
       "HBox(children=(RadioButtons(description='Proteins CG-level', index=1, options=('1-bead/res CA-only', '2-bead/r…"
      ]
     },
     "metadata": {},
     "output_type": "display_data"
    },
    {
     "data": {
      "application/vnd.jupyter.widget-view+json": {
       "model_id": "43dfd98832ec4e59af52ab08c3c80e08",
       "version_major": 2,
       "version_minor": 0
      },
      "text/plain": [
       "HBox(children=(RadioButtons(description='Position of C-alpha bead\\n', options=('CA atom', 'Amino-acid backbone…"
      ]
     },
     "metadata": {},
     "output_type": "display_data"
    }
   ],
   "source": [
    "if \"custom\" in selectmodel.value: \n",
    "    disable_option=False\n",
    "    prot_cg = widgets.RadioButtons(options=[\"1-bead/res CA-only\", \"2-bead/res CB+CA\"],value=\"2-bead/res CB+CA\",description='Proteins CG-level\\n',disabled=disable_option,)\n",
    "    nucl_cg = widgets.RadioButtons(options=[\"1-bead/res P-only\", \"3-bead/res P-S-B\"],value=\"3-bead/res P-S-B\",description='Nucleic acids CG-level\\n',disabled=disable_option,)\n",
    "    CA_position = widgets.RadioButtons(options=[\"CA atom\", \"Amino-acid backbone COM\"],value=\"CA atom\",disabled=disable_option,description='Position of C-alpha bead\\n')\n",
    "    CB_position = widgets.RadioButtons(options=[\"CB atom\", \"Amino-acid sidechain COM\",\"Farthest sidechain non-H atom\"],value=\"CB atom\",disabled=disable_option,description='Position of C-beta bead\\n')\n",
    "    display (widgets.HBox([prot_cg,nucl_cg]))\n",
    "    display (widgets.HBox([CA_position,CB_position]))\n",
    "else: \n",
    "    print (\"NOTE: CG paramters are not supported with preset models\")\n",
    "    disable_option=True\n"
   ]
  },
  {
   "cell_type": "markdown",
   "metadata": {},
   "source": []
  }
 ],
 "metadata": {
  "interpreter": {
   "hash": "e234d837eebba94c7397b4e38c0b82bd3e4741cb2c390182a3fb441eaf8f3cd5"
  },
  "kernelspec": {
   "display_name": "Python 3.8.13 ('base')",
   "language": "python",
   "name": "python3"
  },
  "language_info": {
   "codemirror_mode": {
    "name": "ipython",
    "version": 3
   },
   "file_extension": ".py",
   "mimetype": "text/x-python",
   "name": "python",
   "nbconvert_exporter": "python",
   "pygments_lexer": "ipython3",
   "version": "3.8.13"
  }
 },
 "nbformat": 4,
 "nbformat_minor": 2
}
